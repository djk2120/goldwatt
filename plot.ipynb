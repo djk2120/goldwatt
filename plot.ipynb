{
 "cells": [
  {
   "cell_type": "code",
   "execution_count": 72,
   "id": "818ea3a9",
   "metadata": {},
   "outputs": [],
   "source": [
    "import xarray as xr\n",
    "import pandas as pd\n",
    "import numpy as np\n",
    "import matplotlib.pyplot as plt\n",
    "import matplotlib"
   ]
  },
  {
   "cell_type": "code",
   "execution_count": 267,
   "id": "3f4a818c",
   "metadata": {},
   "outputs": [],
   "source": [
    "def get_b(d0,d1=[]):\n",
    "    b=0\n",
    "    for d in [d0,d1]:\n",
    "        npom = np.sum([d[t] for t in d])\n",
    "        i=0\n",
    "        go=True\n",
    "        while go:\n",
    "            i+=1\n",
    "            maxp=np.arange(i,0,-2).sum()\n",
    "            if maxp>npom:\n",
    "                go=False\n",
    "        b = max([i,b])\n",
    "    return b-1\n",
    "    "
   ]
  },
  {
   "cell_type": "code",
   "execution_count": 236,
   "id": "6448d1f6",
   "metadata": {},
   "outputs": [],
   "source": [
    "def make_dict(l,m):\n",
    "    mvals = l['monday'].values\n",
    "    ix = mvals==m\n",
    "    tagged = l['tag'][ix].values\n",
    "\n",
    "    d={}\n",
    "    for t in np.unique(tagged):\n",
    "        d[t]=np.sum(tagged==t)\n",
    "    tags=[]\n",
    "    occs=[]\n",
    "    for t in d:\n",
    "        tags.append(t)\n",
    "        occs.append(d[t])\n",
    "\n",
    "    tags=np.array(tags)\n",
    "    occs=np.array(occs)\n",
    "    ix = np.flipud(np.argsort(occs))\n",
    "    d={t:o for t,o in zip(tags[ix],occs[ix])}\n",
    "    \n",
    "    return d"
   ]
  },
  {
   "cell_type": "code",
   "execution_count": 264,
   "id": "ffbde031",
   "metadata": {},
   "outputs": [],
   "source": [
    "def stackem(pomos,b):\n",
    "    s = np.zeros([int(b/2)+1,b])+np.nan\n",
    "\n",
    "    i=0;j=0;k=0\n",
    "    minj=1\n",
    "    maxj=b\n",
    "    for t in pomos:\n",
    "        k+=1\n",
    "        for n in range(pomos[t]):\n",
    "            s[i,j]=k\n",
    "            j+=1\n",
    "            if j>=maxj:\n",
    "                i+=1\n",
    "                j=minj\n",
    "                minj+=1\n",
    "                maxj-=1\n",
    "                \n",
    "    cmap = plt.cm.jet  # define the colormap\n",
    "    # extract all colors from the .jet map\n",
    "    cmaplist = np.array([cmap(i) for i in range(cmap.N)])\n",
    "    nx = len(pomos)\n",
    "\n",
    "    c=np.zeros([nx,3])\n",
    "    c[:,0]=0.2\n",
    "    c[:,1]=0.7-np.arange(nx)/(2*nx)\n",
    "    c[:,2]=0.5+0.7*np.arange(nx)/(2*nx)\n",
    "\n",
    "    cmap = matplotlib.colors.ListedColormap(c)\n",
    "\n",
    "    plt.pcolormesh(s,cmap=cmap)\n",
    "    \n",
    "    tvals = [t for t in pomos]\n",
    "    for t,k in zip(tvals,np.unique(s)[:-1]):\n",
    "        i=np.argmax((s==k).sum(axis=1))\n",
    "        j=np.mean(np.arange(b)[s[i,:]==k])\n",
    "        plt.text(j+0.5,i+0.5,t,fontsize=14,va='center',ha='center',color=0.9*np.ones(3),fontweight='bold')\n",
    "\n",
    "    plt.xticks([])\n",
    "    plt.yticks([])\n",
    "\n",
    "        \n",
    "    \n",
    "    \n",
    "    "
   ]
  },
  {
   "cell_type": "code",
   "execution_count": 272,
   "id": "43fe79ae",
   "metadata": {},
   "outputs": [
    {
     "data": {
      "image/png": "[encoded data removed]",
      "text/plain": [
       "<Figure size 864x216 with 2 Axes>"
      ]
     },
     "metadata": {},
     "output_type": "display_data"
    }
   ],
   "source": [
    "l=pd.read_csv('2022.txt')\n",
    "m=l['monday'].values\n",
    "m1 = m[0]\n",
    "m0 = m[m!=m1][0]\n",
    "d1=make_dict(l,m1)\n",
    "d0=make_dict(l,m0)\n",
    "b = get_b(d0,d1)\n",
    "plt.figure(figsize=[12,3])\n",
    "plt.subplot(121)\n",
    "stackem(d0,b)\n",
    "plt.subplot(122)\n",
    "stackem(d1,b)\n"
   ]
  },
  {
   "cell_type": "code",
   "execution_count": null,
   "id": "7aa008fc",
   "metadata": {},
   "outputs": [],
   "source": []
  }
 ],
 "metadata": {
  "kernelspec": {
   "display_name": "Python 3",
   "language": "python",
   "name": "python3"
  },
  "language_info": {
   "codemirror_mode": {
    "name": "ipython",
    "version": 3
   },
   "file_extension": ".py",
   "mimetype": "text/x-python",
   "name": "python",
   "nbconvert_exporter": "python",
   "pygments_lexer": "ipython3",
   "version": "3.7.10"
  }
 },
 "nbformat": 4,
 "nbformat_minor": 5
}
